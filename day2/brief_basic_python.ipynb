{
 "cells": [
  {
   "cell_type": "markdown",
   "id": "severe-saint",
   "metadata": {},
   "source": [
    "# Basic Types"
   ]
  },
  {
   "cell_type": "code",
   "execution_count": 1,
   "id": "greatest-auditor",
   "metadata": {},
   "outputs": [],
   "source": [
    "a = 'hello world'"
   ]
  },
  {
   "cell_type": "code",
   "execution_count": 2,
   "id": "exotic-executive",
   "metadata": {},
   "outputs": [
    {
     "data": {
      "text/plain": [
       "str"
      ]
     },
     "execution_count": 2,
     "metadata": {},
     "output_type": "execute_result"
    }
   ],
   "source": [
    "type(a)"
   ]
  },
  {
   "cell_type": "code",
   "execution_count": 3,
   "id": "catholic-frontier",
   "metadata": {},
   "outputs": [
    {
     "data": {
      "text/plain": [
       "int"
      ]
     },
     "execution_count": 3,
     "metadata": {},
     "output_type": "execute_result"
    }
   ],
   "source": [
    "b = 1\n",
    "type(b)"
   ]
  },
  {
   "cell_type": "code",
   "execution_count": 4,
   "id": "monetary-raleigh",
   "metadata": {},
   "outputs": [
    {
     "data": {
      "text/plain": [
       "float"
      ]
     },
     "execution_count": 4,
     "metadata": {},
     "output_type": "execute_result"
    }
   ],
   "source": [
    "import math\n",
    "c = math.pi # Set c to pi\n",
    "type(c)"
   ]
  },
  {
   "cell_type": "code",
   "execution_count": 5,
   "id": "rolled-puzzle",
   "metadata": {},
   "outputs": [
    {
     "name": "stdout",
     "output_type": "stream",
     "text": [
      "3\n"
     ]
    }
   ],
   "source": [
    "b = int(c) # Cast c to an integer\n",
    "print(b) # What do you expect?"
   ]
  },
  {
   "cell_type": "code",
   "execution_count": 6,
   "id": "thermal-essence",
   "metadata": {},
   "outputs": [
    {
     "data": {
      "text/plain": [
       "complex"
      ]
     },
     "execution_count": 6,
     "metadata": {},
     "output_type": "execute_result"
    }
   ],
   "source": [
    "d = 1+1j\n",
    "type(d)"
   ]
  },
  {
   "cell_type": "markdown",
   "id": "excited-bicycle",
   "metadata": {},
   "source": [
    "# Operators"
   ]
  },
  {
   "cell_type": "code",
   "execution_count": 8,
   "id": "worst-photographer",
   "metadata": {},
   "outputs": [
    {
     "name": "stdout",
     "output_type": "stream",
     "text": [
      "helloworld\n"
     ]
    }
   ],
   "source": [
    "a = 'hello' + 'world'\n",
    "print(a)"
   ]
  },
  {
   "cell_type": "code",
   "execution_count": 9,
   "id": "rough-charge",
   "metadata": {},
   "outputs": [
    {
     "name": "stdout",
     "output_type": "stream",
     "text": [
      "4.141592653589793\n"
     ]
    },
    {
     "data": {
      "text/plain": [
       "float"
      ]
     },
     "execution_count": 9,
     "metadata": {},
     "output_type": "execute_result"
    }
   ],
   "source": [
    "b = math.pi + 1 # Add an integer and a float\n",
    "print(b)\n",
    "type(b)"
   ]
  },
  {
   "cell_type": "code",
   "execution_count": 10,
   "id": "silent-poster",
   "metadata": {},
   "outputs": [
    {
     "name": "stdout",
     "output_type": "stream",
     "text": [
      "1.2246467991473532e-16j\n"
     ]
    }
   ],
   "source": [
    "print(math.e**(1j*math.pi) + 1) # Euler's famous identify, showing the limits of floating point precision"
   ]
  },
  {
   "cell_type": "code",
   "execution_count": 11,
   "id": "outdoor-brake",
   "metadata": {},
   "outputs": [
    {
     "name": "stdout",
     "output_type": "stream",
     "text": [
      "3.141592653589793\n",
      "3.0\n"
     ]
    }
   ],
   "source": [
    "print(math.pi/1) # Difference between normal divison and floor division\n",
    "print(math.pi//1)"
   ]
  },
  {
   "cell_type": "code",
   "execution_count": 12,
   "id": "enclosed-andorra",
   "metadata": {},
   "outputs": [
    {
     "name": "stdout",
     "output_type": "stream",
     "text": [
      "-4.0\n"
     ]
    }
   ],
   "source": [
    "print(math.pi//-1) # What about this one?"
   ]
  },
  {
   "cell_type": "code",
   "execution_count": 13,
   "id": "imposed-trail",
   "metadata": {},
   "outputs": [
    {
     "name": "stdout",
     "output_type": "stream",
     "text": [
      "2\n",
      "0.14159265358979312\n"
     ]
    }
   ],
   "source": [
    "print(5%3) # Modulo operator (rest of floor division)\n",
    "print(math.pi%1) # Also works for floating point types"
   ]
  },
  {
   "cell_type": "code",
   "execution_count": 14,
   "id": "judicial-acceptance",
   "metadata": {},
   "outputs": [
    {
     "name": "stdout",
     "output_type": "stream",
     "text": [
      "-0.8584073464102069\n"
     ]
    }
   ],
   "source": [
    "print(math.pi%-1) # And this this one?"
   ]
  },
  {
   "cell_type": "code",
   "execution_count": 16,
   "id": "random-jewelry",
   "metadata": {},
   "outputs": [
    {
     "name": "stdout",
     "output_type": "stream",
     "text": [
      "2.141592653589793\n"
     ]
    }
   ],
   "source": [
    "b -= 1 # Most operators can be combined with = to make them \"in-place\"\n",
    "print(b)"
   ]
  },
  {
   "cell_type": "code",
   "execution_count": 17,
   "id": "aggregate-representative",
   "metadata": {},
   "outputs": [
    {
     "name": "stdout",
     "output_type": "stream",
     "text": [
      "True\n"
     ]
    }
   ],
   "source": [
    "print((True or False) and not False) # Logical operators"
   ]
  },
  {
   "cell_type": "code",
   "execution_count": 18,
   "id": "precise-ribbon",
   "metadata": {},
   "outputs": [
    {
     "name": "stdout",
     "output_type": "stream",
     "text": [
      "4640\n"
     ]
    }
   ],
   "source": [
    "print(0x1220)"
   ]
  },
  {
   "cell_type": "code",
   "execution_count": 19,
   "id": "effective-amateur",
   "metadata": {},
   "outputs": [
    {
     "name": "stdout",
     "output_type": "stream",
     "text": [
      "0\n",
      "106\n",
      "168\n"
     ]
    }
   ],
   "source": [
    "swedish_flag_blue_color_code = 0x006aa8 \n",
    "# Bitwise operators\n",
    "print((swedish_flag_blue_color_code & 0xff0000) >> 16) # red channel\n",
    "print((swedish_flag_blue_color_code & 0x00ff00) >> 8) # blue channel\n",
    "print((swedish_flag_blue_color_code & 0x0000ff)) # green channel"
   ]
  },
  {
   "cell_type": "markdown",
   "id": "alternate-murray",
   "metadata": {},
   "source": [
    "# Compound Types"
   ]
  },
  {
   "cell_type": "code",
   "execution_count": 20,
   "id": "front-faith",
   "metadata": {},
   "outputs": [
    {
     "name": "stdout",
     "output_type": "stream",
     "text": [
      "[1, 2, 3, 4, 3.141592653589793, 'mixed list']\n"
     ]
    }
   ],
   "source": [
    "a = [1,2,3] # A python list\n",
    "a += [4]\n",
    "a = a + [math.pi,'mixed list']\n",
    "print(a)"
   ]
  },
  {
   "cell_type": "code",
   "execution_count": 21,
   "id": "graduate-camera",
   "metadata": {},
   "outputs": [
    {
     "name": "stdout",
     "output_type": "stream",
     "text": [
      "1\n",
      "0\n"
     ]
    }
   ],
   "source": [
    "print(a[0]) # Indices start at 0\n",
    "a[0] = 0 # And list are mutables\n",
    "print(a[0])"
   ]
  },
  {
   "cell_type": "code",
   "execution_count": 22,
   "id": "adverse-session",
   "metadata": {},
   "outputs": [
    {
     "name": "stdout",
     "output_type": "stream",
     "text": [
      "True\n"
     ]
    }
   ],
   "source": [
    "print(math.pi in a)"
   ]
  },
  {
   "cell_type": "code",
   "execution_count": 24,
   "id": "psychological-ancient",
   "metadata": {},
   "outputs": [
    {
     "name": "stdout",
     "output_type": "stream",
     "text": [
      "2\n"
     ]
    },
    {
     "ename": "TypeError",
     "evalue": "'tuple' object does not support item assignment",
     "output_type": "error",
     "traceback": [
      "\u001b[0;31m---------------------------------------------------------------------------\u001b[0m",
      "\u001b[0;31mTypeError\u001b[0m                                 Traceback (most recent call last)",
      "\u001b[0;32m<ipython-input-24-f72162c29ffa>\u001b[0m in \u001b[0;36m<module>\u001b[0;34m\u001b[0m\n\u001b[1;32m      1\u001b[0m \u001b[0mb\u001b[0m \u001b[0;34m=\u001b[0m \u001b[0;34m(\u001b[0m\u001b[0;36m0\u001b[0m\u001b[0;34m,\u001b[0m\u001b[0;36m1\u001b[0m\u001b[0;34m,\u001b[0m\u001b[0;36m2\u001b[0m\u001b[0;34m)\u001b[0m \u001b[0;31m# A python tuple, an immutable list\u001b[0m\u001b[0;34m\u001b[0m\u001b[0;34m\u001b[0m\u001b[0m\n\u001b[1;32m      2\u001b[0m \u001b[0mprint\u001b[0m\u001b[0;34m(\u001b[0m\u001b[0mb\u001b[0m\u001b[0;34m[\u001b[0m\u001b[0;34m-\u001b[0m\u001b[0;36m1\u001b[0m\u001b[0;34m]\u001b[0m\u001b[0;34m)\u001b[0m\u001b[0;34m\u001b[0m\u001b[0;34m\u001b[0m\u001b[0m\n\u001b[0;32m----> 3\u001b[0;31m \u001b[0mb\u001b[0m\u001b[0;34m[\u001b[0m\u001b[0;36m0\u001b[0m\u001b[0;34m]\u001b[0m \u001b[0;34m=\u001b[0m \u001b[0;36m1\u001b[0m\u001b[0;34m\u001b[0m\u001b[0;34m\u001b[0m\u001b[0m\n\u001b[0m",
      "\u001b[0;31mTypeError\u001b[0m: 'tuple' object does not support item assignment"
     ]
    }
   ],
   "source": [
    "b = (0,1,2) # A python tuple, an immutable list\n",
    "print(b[-1])\n",
    "b[0] = 1"
   ]
  },
  {
   "cell_type": "code",
   "execution_count": 25,
   "id": "failing-barbados",
   "metadata": {},
   "outputs": [
    {
     "name": "stdout",
     "output_type": "stream",
     "text": [
      "dict_keys(['red', 'blue', 'green'])\n",
      "dict_values([0, 106, 168])\n"
     ]
    }
   ],
   "source": [
    "c = {'red': 0, 'blue': 106, 'green': 168} # python dictionary\n",
    "print(c.keys())\n",
    "print(c.values())"
   ]
  },
  {
   "cell_type": "code",
   "execution_count": 27,
   "id": "dressed-secondary",
   "metadata": {},
   "outputs": [
    {
     "name": "stdout",
     "output_type": "stream",
     "text": [
      "{'red': 0, 'blue': 106, 'green': 0}\n"
     ]
    }
   ],
   "source": [
    "c['green'] = 0 # Set value\n",
    "print(c)"
   ]
  },
  {
   "cell_type": "code",
   "execution_count": 28,
   "id": "received-dollar",
   "metadata": {},
   "outputs": [
    {
     "name": "stdout",
     "output_type": "stream",
     "text": [
      "{'red': 0, 'blue': 106, 'green': 0, 'alpha': 255}\n"
     ]
    }
   ],
   "source": [
    "c['alpha'] = 255 # All entry to dictionary\n",
    "print(c)"
   ]
  },
  {
   "cell_type": "code",
   "execution_count": 29,
   "id": "invalid-continuity",
   "metadata": {},
   "outputs": [
    {
     "name": "stdout",
     "output_type": "stream",
     "text": [
      "{'red': 0, 'blue': 106, 'green': 0, 'alpha': 255, 'a list': [0, 2, 3, 4, 3.141592653589793, 'mixed list']}\n"
     ]
    }
   ],
   "source": [
    "c['a list'] = a # You can nest compound types\n",
    "print(c)"
   ]
  },
  {
   "cell_type": "markdown",
   "id": "atmospheric-script",
   "metadata": {},
   "source": [
    "# Control Flow"
   ]
  },
  {
   "cell_type": "code",
   "execution_count": 30,
   "id": "subjective-globe",
   "metadata": {},
   "outputs": [
    {
     "name": "stdout",
     "output_type": "stream",
     "text": [
      "c has \"red\" as key\n"
     ]
    }
   ],
   "source": [
    "if 'red' in c: # Conditionals\n",
    "    print('c has \"red\" as key')\n",
    "elif 'blue' in c:\n",
    "    print('c has no red but has blue')\n",
    "else:\n",
    "    print('red not in c')"
   ]
  },
  {
   "cell_type": "code",
   "execution_count": 31,
   "id": "extended-particle",
   "metadata": {},
   "outputs": [
    {
     "name": "stdout",
     "output_type": "stream",
     "text": [
      "red in c, deleting it...\n",
      "c is free of red\n"
     ]
    }
   ],
   "source": [
    "while 'red' in c: # While loops\n",
    "    print('red in c, deleting it...')\n",
    "    del c['red']\n",
    "print('c is free of red')"
   ]
  },
  {
   "cell_type": "code",
   "execution_count": 32,
   "id": "ahead-expansion",
   "metadata": {},
   "outputs": [
    {
     "name": "stdout",
     "output_type": "stream",
     "text": [
      "In loop i = 0\n",
      "In loop i = 1\n",
      "In loop i = 2\n",
      "In loop i = 3\n",
      "In loop i = 4\n",
      "After loop i = 10\n"
     ]
    }
   ],
   "source": [
    "for i in range(100): # For loops\n",
    "    if(i > 9):\n",
    "        break # Exit the loop\n",
    "    if(i > 4):\n",
    "        continue # Continue to next iteration\n",
    "    print(\"In loop i =\",i)\n",
    "print(\"After loop i =\",i)"
   ]
  },
  {
   "cell_type": "markdown",
   "id": "oriental-detective",
   "metadata": {},
   "source": [
    "# Functions"
   ]
  },
  {
   "cell_type": "code",
   "execution_count": 33,
   "id": "fundamental-mapping",
   "metadata": {},
   "outputs": [
    {
     "name": "stdout",
     "output_type": "stream",
     "text": [
      "1\n"
     ]
    }
   ],
   "source": [
    "def square(x): # Simply function\n",
    "    return x*x\n",
    "\n",
    "print(square(-1))"
   ]
  },
  {
   "cell_type": "code",
   "execution_count": 34,
   "id": "excited-consortium",
   "metadata": {},
   "outputs": [
    {
     "name": "stdout",
     "output_type": "stream",
     "text": [
      "5.0\n"
     ]
    }
   ],
   "source": [
    "def p_norm(v, p=2): # with default parameters\n",
    "    return sum([x**p for x in v])**(1/p) # list comprehension\n",
    "\n",
    "print(p_norm([3,4]))"
   ]
  },
  {
   "cell_type": "code",
   "execution_count": 35,
   "id": "handmade-alignment",
   "metadata": {},
   "outputs": [
    {
     "name": "stdout",
     "output_type": "stream",
     "text": [
      "[0, -1, -2]\n"
     ]
    }
   ],
   "source": [
    "print(list(map(lambda a : -a, range(3)))) # lambda anonymous functions"
   ]
  },
  {
   "cell_type": "code",
   "execution_count": 36,
   "id": "peripheral-investor",
   "metadata": {},
   "outputs": [
    {
     "name": "stdout",
     "output_type": "stream",
     "text": [
      "-25\n"
     ]
    }
   ],
   "source": [
    "sign = -1\n",
    "signed_norm2 = lambda x,y : (x**2+y**2) * sign\n",
    "print(signed_norm2(3,4))"
   ]
  },
  {
   "cell_type": "code",
   "execution_count": 37,
   "id": "continued-grade",
   "metadata": {},
   "outputs": [
    {
     "name": "stdout",
     "output_type": "stream",
     "text": [
      "25\n"
     ]
    }
   ],
   "source": [
    "sign = 1\n",
    "print(signed_norm2(3,4)) # What now?"
   ]
  },
  {
   "cell_type": "markdown",
   "id": "bored-stake",
   "metadata": {},
   "source": [
    "# Exceptions"
   ]
  },
  {
   "cell_type": "code",
   "execution_count": 38,
   "id": "controlling-dublin",
   "metadata": {},
   "outputs": [
    {
     "ename": "ZeroDivisionError",
     "evalue": "division by zero",
     "output_type": "error",
     "traceback": [
      "\u001b[0;31m---------------------------------------------------------------------------\u001b[0m",
      "\u001b[0;31mZeroDivisionError\u001b[0m                         Traceback (most recent call last)",
      "\u001b[0;32m<ipython-input-38-9e1622b385b6>\u001b[0m in \u001b[0;36m<module>\u001b[0;34m\u001b[0m\n\u001b[0;32m----> 1\u001b[0;31m \u001b[0;36m1\u001b[0m\u001b[0;34m/\u001b[0m\u001b[0;36m0\u001b[0m\u001b[0;34m\u001b[0m\u001b[0;34m\u001b[0m\u001b[0m\n\u001b[0m",
      "\u001b[0;31mZeroDivisionError\u001b[0m: division by zero"
     ]
    }
   ],
   "source": [
    "1/0"
   ]
  },
  {
   "cell_type": "code",
   "execution_count": 40,
   "id": "female-solution",
   "metadata": {},
   "outputs": [],
   "source": [
    "try:\n",
    "    1/0\n",
    "except ZeroDivisionError:\n",
    "    pass"
   ]
  },
  {
   "cell_type": "code",
   "execution_count": 42,
   "id": "english-problem",
   "metadata": {},
   "outputs": [],
   "source": [
    "def inv_sqrt(x):\n",
    "    if(x == 0):\n",
    "        raise ZeroDivisionError('Cannot take inverse square root of 0') # How to raise exceptions\n",
    "    return 1/(x**(1/2))\n",
    "\n",
    "try:\n",
    "    inv_sqrt(0)\n",
    "except:\n",
    "    pass"
   ]
  },
  {
   "cell_type": "code",
   "execution_count": 43,
   "id": "entitled-alarm",
   "metadata": {},
   "outputs": [],
   "source": [
    "try:\n",
    "    risky_code()\n",
    "except: # Catch all errors\n",
    "    pass"
   ]
  },
  {
   "cell_type": "code",
   "execution_count": 44,
   "id": "informal-invalid",
   "metadata": {},
   "outputs": [
    {
     "ename": "NameError",
     "evalue": "name 'risky_code' is not defined",
     "output_type": "error",
     "traceback": [
      "\u001b[0;31m---------------------------------------------------------------------------\u001b[0m",
      "\u001b[0;31mNameError\u001b[0m                                 Traceback (most recent call last)",
      "\u001b[0;32m<ipython-input-44-26b460424800>\u001b[0m in \u001b[0;36m<module>\u001b[0;34m\u001b[0m\n\u001b[0;32m----> 1\u001b[0;31m \u001b[0mrisky_code\u001b[0m\u001b[0;34m(\u001b[0m\u001b[0;34m)\u001b[0m\u001b[0;34m\u001b[0m\u001b[0;34m\u001b[0m\u001b[0m\n\u001b[0m",
      "\u001b[0;31mNameError\u001b[0m: name 'risky_code' is not defined"
     ]
    }
   ],
   "source": [
    "risky_code()"
   ]
  },
  {
   "cell_type": "code",
   "execution_count": null,
   "id": "another-vocabulary",
   "metadata": {},
   "outputs": [],
   "source": []
  }
 ],
 "metadata": {
  "kernelspec": {
   "display_name": "Python 3",
   "language": "python",
   "name": "python3"
  },
  "language_info": {
   "codemirror_mode": {
    "name": "ipython",
    "version": 3
   },
   "file_extension": ".py",
   "mimetype": "text/x-python",
   "name": "python",
   "nbconvert_exporter": "python",
   "pygments_lexer": "ipython3",
   "version": "3.8.5"
  }
 },
 "nbformat": 4,
 "nbformat_minor": 5
}
